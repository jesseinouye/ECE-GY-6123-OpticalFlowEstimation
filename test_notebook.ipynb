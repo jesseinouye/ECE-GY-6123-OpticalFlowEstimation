{
 "cells": [
  {
   "cell_type": "code",
   "execution_count": 1,
   "metadata": {},
   "outputs": [],
   "source": [
    "import os\n",
    "import math\n",
    "import cv2\n",
    "import torch\n",
    "import numpy as np\n",
    "from PIL import Image"
   ]
  },
  {
   "cell_type": "code",
   "execution_count": 2,
   "metadata": {},
   "outputs": [],
   "source": [
    "# path1 = '.data\\\\MPI-Sintel-complete\\\\training\\\\clean\\\\alley_1\\\\frame_0001.png'\n",
    "# path2 = '.data\\\\MPI-Sintel-complete\\\\training\\\\clean\\\\alley_1\\\\frame_0002.png'\n",
    "# im1 = Image.open(path1).convert('RGB')\n",
    "# im2 = Image.open(path2).convert('RGB')\n",
    "# print(\"{}\".format(type(im1)))\n",
    "# print(\"{}\".format(type(im2)))\n",
    "# im1 = np.array(im1)\n",
    "# im2 = np.array(im2)\n",
    "# print(\"{}\".format(im1.shape))\n",
    "# print(\"{}\".format(im2.shape))\n",
    "# im_all = [im1, im2]"
   ]
  },
  {
   "cell_type": "code",
   "execution_count": 3,
   "metadata": {},
   "outputs": [],
   "source": [
    "im1_fn = '.data\\\\MPI-Sintel-complete\\\\training\\\\clean\\\\alley_1\\\\frame_0001.png'\n",
    "im2_fn = '.data\\\\MPI-Sintel-complete\\\\training\\\\clean\\\\alley_1\\\\frame_0002.png'\n",
    "# im_all = [Image.open(img).convert('RGB') for img in [im1_fn, im2_fn]]\n",
    "im1 = Image.open(im1_fn).convert('RGB')\n",
    "im2 = Image.open(im2_fn).convert('RGB')\n",
    "im1 = np.array(im1)\n",
    "im2 = np.array(im2)\n",
    "im_all = [im1, im2]\n",
    "im_all = [im[:, :, :3] for im in im_all]"
   ]
  },
  {
   "cell_type": "code",
   "execution_count": 4,
   "metadata": {},
   "outputs": [],
   "source": [
    "# rescale the image size to be multiples of 64\n",
    "divisor = 64.\n",
    "H = im_all[0].shape[0]\n",
    "W = im_all[0].shape[1]\n",
    "\n",
    "H_ = int(math.ceil(H/divisor) * divisor)\n",
    "W_ = int(math.ceil(W/divisor) * divisor)\n",
    "for i in range(len(im_all)):\n",
    "\tim_all[i] = cv2.resize(im_all[i], (W_, H_))\n",
    "\n",
    "for _i, _inputs in enumerate(im_all):\n",
    "\tim_all[_i] = im_all[_i][:, :, ::-1]\n",
    "\tim_all[_i] = 1.0 * im_all[_i]/255.0\n",
    "\t\n",
    "\tim_all[_i] = np.transpose(im_all[_i], (2, 0, 1))\n",
    "\tim_all[_i] = torch.from_numpy(im_all[_i])\n",
    "\tim_all[_i] = im_all[_i].expand(1, im_all[_i].size()[0], im_all[_i].size()[1], im_all[_i].size()[2])\t\n",
    "\tim_all[_i] = im_all[_i].float()"
   ]
  },
  {
   "cell_type": "code",
   "execution_count": 5,
   "metadata": {},
   "outputs": [
    {
     "name": "stdout",
     "output_type": "stream",
     "text": [
      "<class 'torch.Tensor'>\n"
     ]
    }
   ],
   "source": [
    "print(\"{}\".format(type(im_all[0])))"
   ]
  },
  {
   "cell_type": "code",
   "execution_count": 6,
   "metadata": {},
   "outputs": [
    {
     "name": "stdout",
     "output_type": "stream",
     "text": [
      "torch.Size([1, 3, 448, 1024])\n"
     ]
    }
   ],
   "source": [
    "print(\"{}\".format(im_all[0].size()))"
   ]
  },
  {
   "cell_type": "code",
   "execution_count": 7,
   "metadata": {},
   "outputs": [
    {
     "name": "stderr",
     "output_type": "stream",
     "text": [
      "C:\\Users\\jessi\\AppData\\Local\\Temp\\ipykernel_4900\\1164629203.py:1: UserWarning: volatile was removed and now has no effect. Use `with torch.no_grad():` instead.\n",
      "  im_all = torch.autograd.Variable(torch.cat(im_all,1).cuda(), volatile=True)\n"
     ]
    }
   ],
   "source": [
    "im_all = torch.autograd.Variable(torch.cat(im_all,1).cuda(), volatile=True)"
   ]
  },
  {
   "cell_type": "code",
   "execution_count": 8,
   "metadata": {},
   "outputs": [
    {
     "name": "stdout",
     "output_type": "stream",
     "text": [
      "torch.Size([1, 6, 448, 1024])\n"
     ]
    }
   ],
   "source": [
    "print(\"{}\".format(im_all.size()))"
   ]
  },
  {
   "cell_type": "code",
   "execution_count": 9,
   "metadata": {},
   "outputs": [
    {
     "name": "stdout",
     "output_type": "stream",
     "text": [
      "torch.Size([1, 3, 448, 1024])\n"
     ]
    }
   ],
   "source": [
    "im_test = im_all[:,:3,:,:]\n",
    "print(\"{}\".format(im_test.size()))"
   ]
  },
  {
   "cell_type": "code",
   "execution_count": null,
   "metadata": {},
   "outputs": [],
   "source": []
  }
 ],
 "metadata": {
  "kernelspec": {
   "display_name": "venv",
   "language": "python",
   "name": "python3"
  },
  "language_info": {
   "codemirror_mode": {
    "name": "ipython",
    "version": 3
   },
   "file_extension": ".py",
   "mimetype": "text/x-python",
   "name": "python",
   "nbconvert_exporter": "python",
   "pygments_lexer": "ipython3",
   "version": "3.9.5"
  },
  "orig_nbformat": 4
 },
 "nbformat": 4,
 "nbformat_minor": 2
}
